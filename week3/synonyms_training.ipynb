{
 "cells": [
  {
   "cell_type": "code",
   "execution_count": null,
   "id": "e7320f5d",
   "metadata": {},
   "outputs": [
    {
     "name": "stdout",
     "output_type": "stream",
     "text": [
      "Writing results to /workspace/datasets/fasttext/titles.txt\r\n"
     ]
    }
   ],
   "source": [
    "# prepare dataset\n",
    "!python extractTitles.py"
   ]
  },
  {
   "cell_type": "code",
   "execution_count": null,
   "id": "b5b4019b",
   "metadata": {},
   "outputs": [],
   "source": [
    "import fasttext\n",
    "model = \\\n",
    "    fasttext\\\n",
    "        .train_unsupervised(input=\"/workspace/datasets/fasttext/titles.txt\",\n",
    "                            lr=0.2, \n",
    "                            epoch=50, \n",
    "                            model='skipgram')"
   ]
  },
  {
   "cell_type": "code",
   "execution_count": null,
   "id": "71343e29",
   "metadata": {},
   "outputs": [],
   "source": [
    "# test single case\n",
    "model.get_nearest_neighbors('iphone')"
   ]
  },
  {
   "cell_type": "code",
   "execution_count": null,
   "id": "d0d3ba51",
   "metadata": {},
   "outputs": [],
   "source": [
    "# create a set of tokens for evaluation\n",
    "lst_tokens = ['headphones', 'sony', 'thinkpad' 'blue']\n",
    "for i in lst_tokens:\n",
    "    print('token - {}'.format(i))\n",
    "    print(model.get_nearest_neighbors(i))"
   ]
  },
  {
   "cell_type": "code",
   "execution_count": null,
   "id": "2b0d18f0",
   "metadata": {},
   "outputs": [],
   "source": []
  }
 ],
 "metadata": {
  "kernelspec": {
   "display_name": "Python 3 (ipykernel)",
   "language": "python",
   "name": "python3"
  },
  "language_info": {
   "codemirror_mode": {
    "name": "ipython",
    "version": 3
   },
   "file_extension": ".py",
   "mimetype": "text/x-python",
   "name": "python",
   "nbconvert_exporter": "python",
   "pygments_lexer": "ipython3",
   "version": "3.8.12"
  }
 },
 "nbformat": 4,
 "nbformat_minor": 5
}
