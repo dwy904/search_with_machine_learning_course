{
 "cells": [
  {
   "cell_type": "code",
   "execution_count": 22,
   "id": "47b32207",
   "metadata": {},
   "outputs": [
    {
     "name": "stdout",
     "output_type": "stream",
     "text": [
      "Writing results to /workspace/datasets/fasttext/titles.txt\r\n"
     ]
    }
   ],
   "source": [
    "# prepare dataset\n",
    "!python extractTitles.py"
   ]
  },
  {
   "cell_type": "code",
   "execution_count": 35,
   "id": "b8c612d4",
   "metadata": {},
   "outputs": [
    {
     "name": "stderr",
     "output_type": "stream",
     "text": [
      "Read 0M words\n",
      "Number of words:  9550\n",
      "Number of labels: 0\n",
      "Progress: 100.0% words/sec/thread:   59301 lr:  0.000000 avg.loss:  5.973828 ETA:   0h 0m 0s 20.6% words/sec/thread:   60107 lr:  0.158705 avg.loss: 10.533256 ETA:   0h 0m36s 0.156562 avg.loss: 10.802094 ETA:   0h 0m36s 24.8% words/sec/thread:   60094 lr:  0.150418 avg.loss: 11.566569 ETA:   0h 0m34s 28.3% words/sec/thread:   60075 lr:  0.143458 avg.loss: 11.996146 ETA:   0h 0m32s 60.0% words/sec/thread:   59660 lr:  0.079939 avg.loss:  9.152411 ETA:   0h 0m18s\n"
     ]
    }
   ],
   "source": [
    "import fasttext\n",
    "model = \\\n",
    "    fasttext\\\n",
    "        .train_unsupervised(input=\"/workspace/datasets/fasttext/titles.txt\",\n",
    "                            lr=0.2, \n",
    "                            epoch=50, \n",
    "                            model='skipgram',\n",
    "                            minn=2, \n",
    "                            maxn=5)"
   ]
  },
  {
   "cell_type": "code",
   "execution_count": 38,
   "id": "e5df3d9a",
   "metadata": {},
   "outputs": [
    {
     "data": {
      "text/plain": [
       "[(0.6771277189254761, 'iphon'),\n",
       " (0.6151018738746643, 'appl'),\n",
       " (0.5962121486663818, 'telephoto'),\n",
       " (0.5765114426612854, 'ipad'),\n",
       " (0.5761173367500305, 'nikon'),\n",
       " (0.5691421031951904, '4s'),\n",
       " (0.5634634494781494, 'vr'),\n",
       " (0.5624176263809204, 'mobil'),\n",
       " (0.5406661629676819, 'ipod'),\n",
       " (0.5376582741737366, 'len')]"
      ]
     },
     "execution_count": 38,
     "metadata": {},
     "output_type": "execute_result"
    }
   ],
   "source": [
    "# test single case\n",
    "model.get_nearest_neighbors('iphone')"
   ]
  },
  {
   "cell_type": "code",
   "execution_count": 39,
   "id": "8db635dc",
   "metadata": {},
   "outputs": [
    {
     "name": "stdout",
     "output_type": "stream",
     "text": [
      "token - headphones\n",
      "[(0.7336894869804382, 'headphon'), (0.6106436848640442, 'earbud'), (0.5659334063529968, 'vr'), (0.5519999861717224, 'overtheear'), (0.5496797561645508, '61mp'), (0.5476803183555603, 'abl'), (0.5254401564598083, 'inear'), (0.5158424973487854, 'd80'), (0.5157721042633057, 'd40'), (0.5152618885040283, 'honest')]\n",
      "token - sony\n",
      "[(0.8229003548622131, 'sonybmg'), (0.6204939484596252, 'musicpass'), (0.5642178058624268, 'elf'), (0.5177198052406311, 'carousel'), (0.5031262040138245, 'fantastick'), (0.49895548820495605, 'parton'), (0.4979330599308014, 'fray'), (0.49779191613197327, 'bolivia'), (0.49750638008117676, 'fiddler'), (0.49713894724845886, 'ocr')]\n",
      "token - thinkpad\n",
      "[(0.7404787540435791, 'ibm'), (0.658275306224823, 'replic'), (0.6550881862640381, 'nickelmet'), (0.6217218637466431, 'lenmar'), (0.5968162417411804, 'lenovo'), (0.5902920365333557, 'lithiumion'), (0.5784600973129272, 'batteri'), (0.5780009031295776, 'hydrid'), (0.5698555111885071, 'vaio'), (0.561719536781311, '4g')]\n",
      "token - black\n",
      "[(0.6736108064651489, 'white'), (0.6596026420593262, 'silver'), (0.6504127979278564, 'case'), (0.6318990588188171, 'samsung'), (0.6210916638374329, 'digit'), (0.6044058799743652, 'appl'), (0.6004338264465332, 'camera'), (0.5972927808761597, 'slr'), (0.5910410284996033, 'red'), (0.5889233946800232, 'and')]\n"
     ]
    }
   ],
   "source": [
    "# create a set of tokens for evaluation\n",
    "lst_tokens = ['headphones', 'sony', 'thinkpad', 'black']\n",
    "for i in lst_tokens:\n",
    "    print('token - {}'.format(i))\n",
    "    print(model.get_nearest_neighbors(i))"
   ]
  }
 ],
 "metadata": {
  "kernelspec": {
   "display_name": "Python 3 (ipykernel)",
   "language": "python",
   "name": "python3"
  },
  "language_info": {
   "codemirror_mode": {
    "name": "ipython",
    "version": 3
   },
   "file_extension": ".py",
   "mimetype": "text/x-python",
   "name": "python",
   "nbconvert_exporter": "python",
   "pygments_lexer": "ipython3",
   "version": "3.8.12"
  }
 },
 "nbformat": 4,
 "nbformat_minor": 5
}
