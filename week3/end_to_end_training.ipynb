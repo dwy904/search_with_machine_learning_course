{
 "cells": [
  {
   "cell_type": "code",
   "execution_count": 15,
   "id": "647801b2",
   "metadata": {
    "scrolled": false
   },
   "outputs": [
    {
     "name": "stdout",
     "output_type": "stream",
     "text": [
      "Writing results to /workspace/datasets/fasttext/output.fasttext\n",
      "Processing products_0135_12585295_to_12641439.xml\n",
      "Processing products_0154_13954278_to_14012757.xml\n",
      "Processing products_0085_8771938_to_8856419.xml\n",
      "Processing products_0018_2035443_to_2098517.xml\n",
      "Processing products_0045_4230576_to_4326232.xml\n",
      "Processing products_0049_4725587_to_4810643.xml\n",
      "Processing products_0117_11594447_to_11666315.xml\n",
      "Processing products_0127_12146297_to_12201565.xml\n",
      "Processing products_0130_12309664_to_12363186.xml\n",
      "Processing products_0246_20069161_to_20128686.xml\n",
      "Processing products_0236_19379882_to_19452187.xml\n",
      "Processing products_0235_19312288_to_19379873.xml\n",
      "Processing products_0108_10888907_to_10972432.xml\n",
      "Processing products_0183_15706595_to_15778623.xml\n",
      "Processing products_0056_5412252_to_5573998.xml\n",
      "Processing products_0230_18957618_to_19040862.xml\n",
      "Processing products_0115_11436494_to_11514097.xml\n",
      "Processing products_0197_16592224_to_16661284.xml\n",
      "Processing products_0026_2685115_to_2762861.xml\n",
      "Processing products_0217_17990532_to_18069368.xml\n",
      "Processing products_0065_6685928_to_6785115.xml\n",
      "Processing products_0255_9999141300050003_to_9999184200050032.xml\n",
      "Processing products_0068_6976034_to_7062867.xml\n",
      "Processing products_0182_15635699_to_15706586.xml\n",
      "Processing products_0020_2180446_to_2282074.xml\n",
      "Processing products_0120_11768321_to_11821246.xml\n",
      "Processing products_0159_14273724_to_14333777.xml\n",
      "Processing products_0106_10740362_to_10811357.xml\n",
      "Processing products_0176_15282784_to_15339108.xml\n",
      "Processing products_0016_1841154_to_1937676.xml\n",
      "Processing products_0046_4326241_to_4516198.xml\n",
      "Processing products_0219_18138409_to_18197069.xml\n",
      "Processing products_0143_13084146_to_13158058.xml\n",
      "Processing products_0249_20259278_to_20333085.xml\n",
      "Processing products_0054_5196931_to_5288949.xml\n",
      "Processing products_0252_20459355_to_999928600050002.xml\n",
      "Processing products_0042_3952217_to_4040683.xml\n",
      "Processing products_0187_15963147_to_16028923.xml\n",
      "Processing products_0223_18434995_to_18509097.xml\n",
      "Processing products_0224_18509103_to_18587072.xml\n",
      "Processing products_0166_14689973_to_14754722.xml\n"
     ]
    }
   ],
   "source": [
    "# create modeling data\n",
    "!python /workspace/search_with_machine_learning_course/week3/createContentTrainingData.py --max_input 10000"
   ]
  },
  {
   "cell_type": "code",
   "execution_count": 16,
   "id": "480c7f51",
   "metadata": {},
   "outputs": [],
   "source": [
    "# random shuffle\n",
    "!shuf -n 7500 /workspace/datasets/fasttext/output.fasttext > /workspace/datasets/fasttext/train.fasttext\n",
    "!shuf -n 2500 /workspace/datasets/fasttext/output.fasttext > /workspace/datasets/fasttext/test.fasttext"
   ]
  },
  {
   "cell_type": "code",
   "execution_count": 18,
   "id": "f9c59c07",
   "metadata": {},
   "outputs": [
    {
     "name": "stdout",
     "output_type": "stream",
     "text": [
      "7500 /workspace/datasets/fasttext/train.fasttext\n",
      "2500 /workspace/datasets/fasttext/test.fasttext\n"
     ]
    }
   ],
   "source": [
    "# line count\n",
    "!wc -l /workspace/datasets/fasttext/train.fasttext\n",
    "!wc -l /workspace/datasets/fasttext/test.fasttext"
   ]
  },
  {
   "cell_type": "code",
   "execution_count": 30,
   "id": "2fe88e7a",
   "metadata": {},
   "outputs": [
    {
     "name": "stdout",
     "output_type": "stream",
     "text": [
      "__label__cat02499 Incidental Music - CD\r\n",
      "__label__cat02015 Aki Kaurismaki¿s Leningrad Cowboys [Criterion Collection] [3 Discs] - DVD\r\n",
      "__label__cat02015 Caminos Perdidos (3 Disc) - Box - DVD\r\n",
      "__label__abcat0106001 Bush - Stand for Tube TVs Up to 36\", Projection TVs up to 51\", Flat-Panel TVs Up to 60\"\r\n",
      "__label__cat02824 Tantas Mares - CD\r\n",
      "__label__cat02009 Into the Unknown - CD\r\n",
      "__label__cat02004 Stadtkind [LP] - VINYL\r\n",
      "__label__cat02719 Sing for the Moment... [ECD] [Single] [PA] - CD\r\n",
      "__label__cat02746 Generation T.E.X.T.O 2.0 - CD\r\n",
      "__label__cat02009 Dandelion Wine - CD\r\n"
     ]
    }
   ],
   "source": [
    "# preview data\n",
    "!head -10 /workspace/datasets/fasttext/train.fasttext"
   ]
  },
  {
   "cell_type": "code",
   "execution_count": 5,
   "id": "f40de23e",
   "metadata": {},
   "outputs": [],
   "source": [
    "# training\n",
    "import fasttext\n",
    "model = fasttext.train_supervised(input=\"/workspace/datasets/fasttext/train.fasttext\")"
   ]
  },
  {
   "cell_type": "code",
   "execution_count": 31,
   "id": "9490e965",
   "metadata": {
    "scrolled": true
   },
   "outputs": [
    {
     "name": "stdout",
     "output_type": "stream",
     "text": [
      "(2475, 0.3991919191919192, 0.3991919191919192)\n",
      "(2475, 0.11119191919191919, 0.555959595959596)\n",
      "(2475, 0.06307070707070707, 0.6307070707070707)\n"
     ]
    }
   ],
   "source": [
    "print(model.test(\"/workspace/datasets/fasttext/test.fasttext\", k=1))\n",
    "print(model.test(\"/workspace/datasets/fasttext/test.fasttext\", k=5))\n",
    "print(model.test(\"/workspace/datasets/fasttext/test.fasttext\", k=10))"
   ]
  },
  {
   "cell_type": "code",
   "execution_count": null,
   "id": "2ec09a43",
   "metadata": {},
   "outputs": [],
   "source": []
  }
 ],
 "metadata": {
  "kernelspec": {
   "display_name": "Python 3 (ipykernel)",
   "language": "python",
   "name": "python3"
  },
  "language_info": {
   "codemirror_mode": {
    "name": "ipython",
    "version": 3
   },
   "file_extension": ".py",
   "mimetype": "text/x-python",
   "name": "python",
   "nbconvert_exporter": "python",
   "pygments_lexer": "ipython3",
   "version": "3.8.12"
  }
 },
 "nbformat": 4,
 "nbformat_minor": 5
}
