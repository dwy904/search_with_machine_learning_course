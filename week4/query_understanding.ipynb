{
 "cells": [
  {
   "cell_type": "code",
   "execution_count": 49,
   "id": "d6787c9d",
   "metadata": {},
   "outputs": [],
   "source": [
    "import pandas as pd\n",
    "import numpy as np\n",
    "import re"
   ]
  },
  {
   "cell_type": "code",
   "execution_count": 51,
   "id": "911b93fa",
   "metadata": {},
   "outputs": [],
   "source": [
    "def transform_training_data(name):\n",
    "    # IMPLEMENT\n",
    "    # lower case\n",
    "    name = name.lower()\n",
    "    # remove punctuation\n",
    "    name = re.sub(r'[^\\w\\s]','', name)\n",
    "    # remove extra white space\n",
    "    name = \" \".join(name.split())\n",
    "    return name.replace('\\n', ' ')"
   ]
  },
  {
   "cell_type": "code",
   "execution_count": 3,
   "id": "2d938a24",
   "metadata": {},
   "outputs": [],
   "source": [
    "df_train = pd.read_csv('/workspace/datasets/train.csv')"
   ]
  },
  {
   "cell_type": "code",
   "execution_count": 35,
   "id": "b50b807c",
   "metadata": {},
   "outputs": [],
   "source": [
    "path_product = '/workspace/datasets/product_data/categories/categories_0001_abcat0010000_to_pcmcat99300050000.xml'\n",
    "df_product = pd.read_xml(path_or_buffer=path_product)"
   ]
  },
  {
   "cell_type": "code",
   "execution_count": 38,
   "id": "8fa82a73",
   "metadata": {},
   "outputs": [
    {
     "data": {
      "text/html": [
       "<div>\n",
       "<style scoped>\n",
       "    .dataframe tbody tr th:only-of-type {\n",
       "        vertical-align: middle;\n",
       "    }\n",
       "\n",
       "    .dataframe tbody tr th {\n",
       "        vertical-align: top;\n",
       "    }\n",
       "\n",
       "    .dataframe thead th {\n",
       "        text-align: right;\n",
       "    }\n",
       "</style>\n",
       "<table border=\"1\" class=\"dataframe\">\n",
       "  <thead>\n",
       "    <tr style=\"text-align: right;\">\n",
       "      <th></th>\n",
       "      <th>id</th>\n",
       "      <th>name</th>\n",
       "      <th>path</th>\n",
       "      <th>subCategories</th>\n",
       "    </tr>\n",
       "  </thead>\n",
       "  <tbody>\n",
       "    <tr>\n",
       "      <th>0</th>\n",
       "      <td>abcat0010000</td>\n",
       "      <td>Gift Center</td>\n",
       "      <td>NaN</td>\n",
       "      <td>NaN</td>\n",
       "    </tr>\n",
       "    <tr>\n",
       "      <th>1</th>\n",
       "      <td>abcat0011000</td>\n",
       "      <td>Her</td>\n",
       "      <td>NaN</td>\n",
       "      <td>NaN</td>\n",
       "    </tr>\n",
       "    <tr>\n",
       "      <th>2</th>\n",
       "      <td>abcat0011001</td>\n",
       "      <td>Leisure Gifts</td>\n",
       "      <td>NaN</td>\n",
       "      <td>NaN</td>\n",
       "    </tr>\n",
       "    <tr>\n",
       "      <th>3</th>\n",
       "      <td>abcat0011002</td>\n",
       "      <td>Kitchen Essentials</td>\n",
       "      <td>NaN</td>\n",
       "      <td>NaN</td>\n",
       "    </tr>\n",
       "    <tr>\n",
       "      <th>4</th>\n",
       "      <td>abcat0011003</td>\n",
       "      <td>Electronics</td>\n",
       "      <td>NaN</td>\n",
       "      <td>NaN</td>\n",
       "    </tr>\n",
       "  </tbody>\n",
       "</table>\n",
       "</div>"
      ],
      "text/plain": [
       "             id                name  path  subCategories\n",
       "0  abcat0010000         Gift Center   NaN            NaN\n",
       "1  abcat0011000                 Her   NaN            NaN\n",
       "2  abcat0011001       Leisure Gifts   NaN            NaN\n",
       "3  abcat0011002  Kitchen Essentials   NaN            NaN\n",
       "4  abcat0011003         Electronics   NaN            NaN"
      ]
     },
     "execution_count": 38,
     "metadata": {},
     "output_type": "execute_result"
    }
   ],
   "source": [
    "df_product.head()"
   ]
  },
  {
   "cell_type": "code",
   "execution_count": 24,
   "id": "9d621014",
   "metadata": {},
   "outputs": [
    {
     "data": {
      "text/html": [
       "<div>\n",
       "<style scoped>\n",
       "    .dataframe tbody tr th:only-of-type {\n",
       "        vertical-align: middle;\n",
       "    }\n",
       "\n",
       "    .dataframe tbody tr th {\n",
       "        vertical-align: top;\n",
       "    }\n",
       "\n",
       "    .dataframe thead th {\n",
       "        text-align: right;\n",
       "    }\n",
       "</style>\n",
       "<table border=\"1\" class=\"dataframe\">\n",
       "  <thead>\n",
       "    <tr style=\"text-align: right;\">\n",
       "      <th></th>\n",
       "      <th>user</th>\n",
       "      <th>sku</th>\n",
       "      <th>category</th>\n",
       "      <th>query</th>\n",
       "      <th>click_time</th>\n",
       "      <th>query_time</th>\n",
       "    </tr>\n",
       "  </thead>\n",
       "  <tbody>\n",
       "    <tr>\n",
       "      <th>0</th>\n",
       "      <td>000000df17cd56a5df4a94074e133c9d4739fae3</td>\n",
       "      <td>2125233</td>\n",
       "      <td>abcat0101001</td>\n",
       "      <td>Televisiones Panasonic  50 pulgadas</td>\n",
       "      <td>2011-09-01 23:44:52.533</td>\n",
       "      <td>2011-09-01 23:43:59.752</td>\n",
       "    </tr>\n",
       "    <tr>\n",
       "      <th>1</th>\n",
       "      <td>000001928162247ffaf63185cd8b2a244c78e7c6</td>\n",
       "      <td>2009324</td>\n",
       "      <td>abcat0101001</td>\n",
       "      <td>Sharp</td>\n",
       "      <td>2011-09-05 12:25:37.42</td>\n",
       "      <td>2011-09-05 12:25:01.187</td>\n",
       "    </tr>\n",
       "    <tr>\n",
       "      <th>2</th>\n",
       "      <td>000017f79c2b5da56721f22f9fdd726b13daf8e8</td>\n",
       "      <td>1517163</td>\n",
       "      <td>pcmcat193100050014</td>\n",
       "      <td>nook</td>\n",
       "      <td>2011-08-24 12:56:58.91</td>\n",
       "      <td>2011-08-24 12:55:13.012</td>\n",
       "    </tr>\n",
       "    <tr>\n",
       "      <th>3</th>\n",
       "      <td>000017f79c2b5da56721f22f9fdd726b13daf8e8</td>\n",
       "      <td>2877125</td>\n",
       "      <td>abcat0101001</td>\n",
       "      <td>rca</td>\n",
       "      <td>2011-10-25 07:18:14.722</td>\n",
       "      <td>2011-10-25 07:16:51.759</td>\n",
       "    </tr>\n",
       "    <tr>\n",
       "      <th>4</th>\n",
       "      <td>000017f79c2b5da56721f22f9fdd726b13daf8e8</td>\n",
       "      <td>2877134</td>\n",
       "      <td>abcat0101005</td>\n",
       "      <td>rca</td>\n",
       "      <td>2011-10-25 07:19:51.697</td>\n",
       "      <td>2011-10-25 07:16:51.759</td>\n",
       "    </tr>\n",
       "  </tbody>\n",
       "</table>\n",
       "</div>"
      ],
      "text/plain": [
       "                                       user      sku            category  \\\n",
       "0  000000df17cd56a5df4a94074e133c9d4739fae3  2125233        abcat0101001   \n",
       "1  000001928162247ffaf63185cd8b2a244c78e7c6  2009324        abcat0101001   \n",
       "2  000017f79c2b5da56721f22f9fdd726b13daf8e8  1517163  pcmcat193100050014   \n",
       "3  000017f79c2b5da56721f22f9fdd726b13daf8e8  2877125        abcat0101001   \n",
       "4  000017f79c2b5da56721f22f9fdd726b13daf8e8  2877134        abcat0101005   \n",
       "\n",
       "                                 query               click_time  \\\n",
       "0  Televisiones Panasonic  50 pulgadas  2011-09-01 23:44:52.533   \n",
       "1                                Sharp   2011-09-05 12:25:37.42   \n",
       "2                                 nook   2011-08-24 12:56:58.91   \n",
       "3                                  rca  2011-10-25 07:18:14.722   \n",
       "4                                  rca  2011-10-25 07:19:51.697   \n",
       "\n",
       "                query_time  \n",
       "0  2011-09-01 23:43:59.752  \n",
       "1  2011-09-05 12:25:01.187  \n",
       "2  2011-08-24 12:55:13.012  \n",
       "3  2011-10-25 07:16:51.759  \n",
       "4  2011-10-25 07:16:51.759  "
      ]
     },
     "execution_count": 24,
     "metadata": {},
     "output_type": "execute_result"
    }
   ],
   "source": [
    "df_train.head()"
   ]
  },
  {
   "cell_type": "code",
   "execution_count": 11,
   "id": "37141c27",
   "metadata": {},
   "outputs": [
    {
     "data": {
      "text/plain": [
       "1540"
      ]
     },
     "execution_count": 11,
     "metadata": {},
     "output_type": "execute_result"
    }
   ],
   "source": [
    "# check on the total number of categories\n",
    "df_train['category'].nunique()"
   ]
  },
  {
   "cell_type": "code",
   "execution_count": 25,
   "id": "69225a37",
   "metadata": {},
   "outputs": [
    {
     "data": {
      "text/plain": [
       "count     1540.000000\n",
       "mean       274.951299\n",
       "std       1122.017776\n",
       "min          1.000000\n",
       "25%         12.000000\n",
       "50%         56.000000\n",
       "75%        208.000000\n",
       "max      31924.000000\n",
       "Name: query, dtype: float64"
      ]
     },
     "execution_count": 25,
     "metadata": {},
     "output_type": "execute_result"
    }
   ],
   "source": [
    "# check on the how many queries are associated to a category.\n",
    "df_train.groupby(['category'])['query'].nunique().describe()"
   ]
  },
  {
   "cell_type": "code",
   "execution_count": 40,
   "id": "58fe9973",
   "metadata": {},
   "outputs": [
    {
     "data": {
      "text/plain": [
       "False    940\n",
       "True     600\n",
       "Name: query, dtype: int64"
      ]
     },
     "execution_count": 40,
     "metadata": {},
     "output_type": "execute_result"
    }
   ],
   "source": [
    "# check on the number of categories that has more than 100 queries\n",
    "(df_train.groupby(['category'])['query'].nunique() >= 100).value_counts()"
   ]
  },
  {
   "cell_type": "code",
   "execution_count": 44,
   "id": "6d14db54",
   "metadata": {},
   "outputs": [],
   "source": [
    "# trim the data\n",
    "df_train_trim = \\\n",
    "    df_train[df_train['category']\\\n",
    "                 .isin(df_train.groupby(['category'])['query'].nunique()\n",
    "                       [df_train.groupby(['category'])['query'].nunique() >= 100].index)]"
   ]
  },
  {
   "cell_type": "code",
   "execution_count": 52,
   "id": "7973f475",
   "metadata": {},
   "outputs": [
    {
     "name": "stderr",
     "output_type": "stream",
     "text": [
      "/tmp/ipykernel_5988/1700224800.py:1: SettingWithCopyWarning: \n",
      "A value is trying to be set on a copy of a slice from a DataFrame.\n",
      "Try using .loc[row_indexer,col_indexer] = value instead\n",
      "\n",
      "See the caveats in the documentation: https://pandas.pydata.org/pandas-docs/stable/user_guide/indexing.html#returning-a-view-versus-a-copy\n",
      "  df_train_trim['query'] = df_train_trim['query'].apply(lambda x: transform_training_data(x))\n"
     ]
    }
   ],
   "source": [
    "df_train_trim['query'] = df_train_trim['query'].apply(lambda x: transform_training_data(x))"
   ]
  },
  {
   "cell_type": "code",
   "execution_count": 58,
   "id": "28afdf9b",
   "metadata": {},
   "outputs": [],
   "source": [
    "# training\n",
    "# remove old data\n",
    "!rm -f /workspace/datasets/fasttext/output.fasttext\n",
    "!rm -f /workspace/datasets/fasttext/train.fasttext\n",
    "!rm -f /workspace/datasets/fasttext/test.fasttext"
   ]
  },
  {
   "cell_type": "code",
   "execution_count": 61,
   "id": "f08d578d",
   "metadata": {
    "scrolled": true
   },
   "outputs": [
    {
     "name": "stderr",
     "output_type": "stream",
     "text": [
      "/tmp/ipykernel_5988/3395027938.py:1: SettingWithCopyWarning: \n",
      "A value is trying to be set on a copy of a slice from a DataFrame.\n",
      "Try using .loc[row_indexer,col_indexer] = value instead\n",
      "\n",
      "See the caveats in the documentation: https://pandas.pydata.org/pandas-docs/stable/user_guide/indexing.html#returning-a-view-versus-a-copy\n",
      "  df_train_trim['label'] = '__label__' + df_train_trim['category']\n"
     ]
    }
   ],
   "source": [
    "# prep data\n",
    "df_train_trim['label'] = '__label__' + df_train_trim['category']"
   ]
  },
  {
   "cell_type": "code",
   "execution_count": 76,
   "id": "08396a39",
   "metadata": {},
   "outputs": [],
   "source": [
    "# train and test split\n",
    "df_train_fastext = df_train_trim.sample(frac=0.8)\n",
    "df_test_fastext = df_train_trim.sample(frac=0.01)"
   ]
  },
  {
   "cell_type": "code",
   "execution_count": 77,
   "id": "2655df1b",
   "metadata": {},
   "outputs": [
    {
     "name": "stdout",
     "output_type": "stream",
     "text": [
      "(1432171, 7)\n",
      "(17902, 7)\n"
     ]
    }
   ],
   "source": [
    "# dimension check\n",
    "print(df_train_fastext.shape)\n",
    "print(df_test_fastext.shape)"
   ]
  },
  {
   "cell_type": "code",
   "execution_count": 78,
   "id": "43718a9e",
   "metadata": {},
   "outputs": [],
   "source": [
    "# produce data to disk\n",
    "df_train_fastext[['label', 'query']].to_csv('/workspace/datasets/fasttext/train.fasttext', \n",
    "                                         header=None, \n",
    "                                         index=None, \n",
    "                                         sep=' ')\n",
    "\n",
    "df_test_fastext[['label', 'query']].to_csv('/workspace/datasets/fasttext/test.fasttext', \n",
    "                                         header=None, \n",
    "                                         index=None, \n",
    "                                         sep=' ')"
   ]
  },
  {
   "cell_type": "code",
   "execution_count": 73,
   "id": "caf09d3e",
   "metadata": {},
   "outputs": [
    {
     "name": "stdout",
     "output_type": "stream",
     "text": [
      "__label__cat02015 \"star wars\"\r\n",
      "__label__pcmcat243000050004 \"red dead redemption\"\r\n",
      "__label__pcmcat214000050002 panasinuc\r\n",
      "__label__cat02015 \"game of thrones\"\r\n",
      "__label__pcmcat247400050000 \"gateway laptop\"\r\n",
      "__label__pcmcat209000050008 \"toshiba tablet\"\r\n",
      "__label__abcat0101001 aquos\r\n",
      "__label__abcat0910003 washer\r\n",
      "__label__pcmcat164200050013 netbooks\r\n",
      "__label__pcmcat152400050000 tablets\r\n"
     ]
    }
   ],
   "source": [
    "# check on the training data \n",
    "! head -10 /workspace/datasets/fasttext/train.fasttext"
   ]
  },
  {
   "cell_type": "code",
   "execution_count": 72,
   "id": "55a2bcb6",
   "metadata": {},
   "outputs": [
    {
     "name": "stdout",
     "output_type": "stream",
     "text": [
      "__label__cat02015 newsies\r\n",
      "__label__abcat0205008 subwoofers\r\n",
      "__label__pcmcat186100050006 \"portable hard drive\"\r\n",
      "__label__abcat0504010 \"flash drive\"\r\n",
      "__label__cat02719 \"kid cudi\"\r\n",
      "__label__pcmcat243000050004 summersale_movietv_20110826\r\n",
      "__label__pcmcat144700050004 beats\r\n",
      "__label__pcmcat209000050008 tablet\r\n",
      "__label__abcat0401004 \"canon sd1000\"\r\n",
      "__label__abcat0503013 \"comcast modem\"\r\n"
     ]
    }
   ],
   "source": [
    "# check on the test data \n",
    "! head -10 /workspace/datasets/fasttext/test.fasttext"
   ]
  },
  {
   "cell_type": "code",
   "execution_count": 69,
   "id": "1babaa28",
   "metadata": {},
   "outputs": [
    {
     "name": "stderr",
     "output_type": "stream",
     "text": [
      "Read 7M words\n",
      "Number of words:  80417\n",
      "Number of labels: 600\n",
      "Progress: 100.0% words/sec/thread:    2864 lr:  0.000000 avg.loss:  3.154597 ETA:   0h 0m 0s\n"
     ]
    }
   ],
   "source": [
    "# create modeling data\n",
    "import fasttext\n",
    "model = \\\n",
    "    fasttext\\\n",
    "        .train_supervised(input=\"/workspace/datasets/fasttext/train.fasttext\",\n",
    "                          lr=0.5, \n",
    "                          epoch=1, \n",
    "                          wordNgrams=2)"
   ]
  },
  {
   "cell_type": "code",
   "execution_count": 80,
   "id": "8c52244b",
   "metadata": {},
   "outputs": [
    {
     "name": "stdout",
     "output_type": "stream",
     "text": [
      "(17902, 0.5954641939448106, 0.5954641939448106)\n",
      "(17902, 0.1714668752094738, 0.8573343760473691)\n",
      "(17902, 0.09154284437493017, 0.9154284437493018)\n"
     ]
    }
   ],
   "source": [
    "# validation\n",
    "print(model.test(\"/workspace/datasets/fasttext/test.fasttext\", k=1))\n",
    "print(model.test(\"/workspace/datasets/fasttext/test.fasttext\", k=5))\n",
    "print(model.test(\"/workspace/datasets/fasttext/test.fasttext\", k=10))"
   ]
  }
 ],
 "metadata": {
  "kernelspec": {
   "display_name": "Python 3 (ipykernel)",
   "language": "python",
   "name": "python3"
  },
  "language_info": {
   "codemirror_mode": {
    "name": "ipython",
    "version": 3
   },
   "file_extension": ".py",
   "mimetype": "text/x-python",
   "name": "python",
   "nbconvert_exporter": "python",
   "pygments_lexer": "ipython3",
   "version": "3.8.12"
  }
 },
 "nbformat": 4,
 "nbformat_minor": 5
}
